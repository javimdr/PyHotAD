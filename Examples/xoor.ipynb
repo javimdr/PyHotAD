{
 "cells": [
  {
   "cell_type": "markdown",
   "metadata": {},
   "source": [
    "# PYHOTAD \n",
    "This document represent the tensorflow code of the graph created inthe PyHotAD application."
   ]
  },
  {
   "cell_type": "code",
   "execution_count": null,
   "metadata": {},
   "outputs": [],
   "source": [
    "import numpy as np\n",
    "import tensorflow as tf\n",
    "import matplotlib.pyplot as plt"
   ]
  },
  {
   "cell_type": "markdown",
   "metadata": {},
   "source": [
    "### Inputs Values\n",
    "This cell contain the basic configuration for the graph and the values for the input nodes."
   ]
  },
  {
   "cell_type": "code",
   "execution_count": null,
   "metadata": {},
   "outputs": [],
   "source": [
    "# graph configuration\n",
    "alpha = 0.1\n",
    "num_steps = 1000\n",
    "\n",
    "# input values for placeholders (input nodes)\n",
    "x_value = np.matrix([[0, 0, 1, 1],\n",
    "        [0, 1, 0, 1]]).T\n",
    "y_value = np.matrix([[0, 1, 1, 0]]).T"
   ]
  },
  {
   "cell_type": "markdown",
   "metadata": {},
   "source": [
    "### Input nodes\n",
    "In tis cell, the entries nodes to the graph are defined"
   ]
  },
  {
   "cell_type": "code",
   "execution_count": null,
   "metadata": {},
   "outputs": [],
   "source": [
    "x = tf.placeholder(tf.float32, x_value.shape, name= 'x')\n",
    "y = tf.placeholder(tf.float32, y_value.shape, name= 'y')"
   ]
  },
  {
   "cell_type": "markdown",
   "metadata": {},
   "source": [
    "### Graph declaration\n",
    "Then, all nodes in the graph are declarated."
   ]
  },
  {
   "cell_type": "code",
   "execution_count": null,
   "metadata": {},
   "outputs": [],
   "source": [
    "def create_mul(v0, v1, name=''):\n",
    "    try:\n",
    "        return tf.matmul(v0, v1, name=name)\n",
    "    except(ValueError, TypeError):\n",
    "        return tf.multiply(v0, v1, name)"
   ]
  },
  {
   "cell_type": "code",
   "execution_count": null,
   "metadata": {},
   "outputs": [],
   "source": [
    "sigma = tf.contrib.layers.fully_connected(x, 2, activation_fn=None)\n",
    "psi = tf.contrib.layers.fully_connected(sigma, 1, activation_fn=None)\n",
    "varphi = tf.losses.mean_squared_error(y, psi)\n",
    "\n",
    "init = tf.global_variables_initializer()  # variables should be inicializate"
   ]
  },
  {
   "cell_type": "markdown",
   "metadata": {},
   "source": [
    "### Optimizator: Gradient descent\n",
    "The gradient descent optimizator implements the following operation for each $w$ input variable(tf.Variable):$ w' = w- \\alpha \\nabla \\varepsilon $"
   ]
  },
  {
   "cell_type": "code",
   "execution_count": null,
   "metadata": {},
   "outputs": [],
   "source": [
    "optimizer = tf.train.GradientDescentOptimizer(alpha)\n",
    "train = optimizer.minimize(varphi)"
   ]
  },
  {
   "cell_type": "markdown",
   "metadata": {},
   "source": [
    "### Evaluation of the Graph\n",
    "This contain the code to evaluate num_steps times the graph. After evaluation, the variation of erroris shown on a plot."
   ]
  },
  {
   "cell_type": "code",
   "execution_count": null,
   "metadata": {},
   "outputs": [],
   "source": [
    "error = np.zeros(num_steps)  # used for plot\n",
    "\n",
    "with tf.Session() as sess:\n",
    "    sess.run(init)  # init variables\n",
    "    for step in range(num_steps):\n",
    "        v, _ = sess.run([varphi, train], feed_dict={x: x_value, y: y_value})\n",
    "        error[step] = v\n",
    "\n",
    "# show plot\n",
    "plt.title(\"Optimization\")\n",
    "plt.xlabel(\"Steps\")\n",
    "plt.ylabel(\"Error\")\n",
    "\n",
    "plt.plot(range(num_steps), error)\n",
    "plt.show()"
   ]
  }
 ],
 "metadata": {},
 "nbformat": 4,
 "nbformat_minor": 0
}